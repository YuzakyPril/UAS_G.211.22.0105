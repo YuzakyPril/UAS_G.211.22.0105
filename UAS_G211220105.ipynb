https://colab.research.google.com/drive/1c9lgwopq5YuZCzWae1agatzjXwt06CA6?usp=sharing

#nomor 1
import pandas as pd
import matplotlib.pyplot as plt
import numpy as np

df = pd.read_csv("curah_hujan_new.csv")
bulan = df['bulan'].values
x = np.arange(len(bulan))
w = 0.2
plt.figure(figsize=(10,4))
plt.bar(x-w, df['1981-1990'].values, width=w, label='1981-1990',)
plt.bar(x, df['1991-2000'].values, width=w, label='1991-200', color='red')
plt.bar(x+w, df['2001-2010'].values, width=w, label='2001-2010', color='green')
plt.xticks(x, bulan)
plt.ylim([0,700])
plt.tight_layout()
plt.xlabel('Bulan')
plt.ylabel('Curah Hujan (mm)')
plt.legend(loc='right', bbox_to_anchor=(1.2, 0.5), ncol=1)
plt.grid(axis='y')
plt.show()

#nomor 2
import pandas as pd
import matplotlib.pyplot as plt

df = pd.read_csv("suhu_permukaan.csv")
plt.figure(figsize=(7, 4))

time = df['time'].values
x = range(len(time))
plt.plot(df['asimiliasi'].values, label='Asimilasi', marker=".")
plt.plot(df['observasin'].values, label='Observasi', color='yellow', marker=".")
plt.plot(df['non _asimilasi'].values, label='Non Asimilasi', color='red', marker=".")

plt.xticks(x, time)
plt.ylim([20, 27])
plt.tight_layout()

plt.title('Suhu Permukaan')
plt.xlabel('Waktu')
plt.ylabel('Derajat (celcius)')
plt.legend(loc='right', bbox_to_anchor=(1.3, 0.5), ncol=1)
plt.grid(axis='y')

plt.show()
